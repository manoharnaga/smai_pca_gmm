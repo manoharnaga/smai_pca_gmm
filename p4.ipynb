{
 "cells": [
  {
   "cell_type": "code",
   "execution_count": 10,
   "id": "5e422ab0",
   "metadata": {},
   "outputs": [],
   "source": [
    "# 4.1\n",
    "from PIL import Image\n",
    "import cv2 as cv\n",
    "import numpy as np\n",
    "from math import atan2, cos, sin, sqrt, pi\n",
    "import os\n",
    "\n",
    "def find_orientation(img):\n",
    "    \n",
    "    _, bw = cv.threshold(img, 50, 255, cv.THRESH_BINARY | cv.THRESH_OTSU)\n",
    "    contours, _ = cv.findContours(bw, cv.RETR_LIST, cv.CHAIN_APPROX_NONE)\n",
    "    \n",
    "    for i, c in enumerate(contours):\n",
    "        \n",
    "      area = cv.contourArea(c)\n",
    "     \n",
    "      # Ignore contours that are too small or too large\n",
    "      if area < 100 or 100000 < area:\n",
    "        continue\n",
    " \n",
    "    \n",
    "      rect = cv.minAreaRect(c)\n",
    "      box = cv.boxPoints(rect)\n",
    "      box = np.intp(box)\n",
    "\n",
    "      # Retrieve the key parameters of the rotated bounding box\n",
    "      center = (int(rect[0][0]),int(rect[0][1])) \n",
    "      width = int(rect[1][0])\n",
    "      height = int(rect[1][1])\n",
    "      angle = int(rect[2])\n",
    "\n",
    "\n",
    "      if width < height:\n",
    "        angle = 90 - angle\n",
    "      else:\n",
    "        angle = -angle\n",
    "    \n",
    "      return angle\n",
    "\n",
    "def align_shapes(template_path, input_directory, output_directory):\n",
    "    template = cv.imread(template_path, cv.IMREAD_GRAYSCALE)\n",
    "    if not os.path.exists(output_directory):\n",
    "        os.makedirs(output_directory)\n",
    "\n",
    "    for filename in os.listdir(input_directory):\n",
    "            remaining_shape = cv.imread(os.path.join(input_directory, filename), cv.IMREAD_GRAYSCALE)\n",
    "            orientation_angle = find_orientation(remaining_shape)\n",
    "            template_orientation = find_orientation(template)\n",
    "            rotation_angle = template_orientation - orientation_angle\n",
    "            rows, cols = remaining_shape.shape\n",
    "            M = cv.getRotationMatrix2D((cols / 2, rows / 2), rotation_angle, 1)\n",
    "            rotated_remaining_shape = cv.warpAffine(remaining_shape, M, (cols, rows))\n",
    "            cv.imwrite(os.path.join(output_directory, f\"{filename}_aligned\"), rotated_remaining_shape)\n",
    "\n",
    "template_path = 'KIMIA dataset/bonefishes.png'\n",
    "input_directory = 'KIMIA dataset'\n",
    "output_directory = '4.1_output'\n",
    "align_shapes(template_path, input_directory, output_directory)\n"
   ]
  },
  {
   "cell_type": "code",
   "execution_count": 11,
   "id": "1f983510",
   "metadata": {},
   "outputs": [
    {
     "name": "stdout",
     "output_type": "stream",
     "text": [
      "(100, 2)\n"
     ]
    }
   ],
   "source": [
    "# 4.3\n",
    "import numpy as np\n",
    "import pickle\n",
    "from sklearn.mixture import GaussianMixture\n",
    "import matplotlib.pyplot as plt\n",
    "\n",
    "# Load data from the pickle file\n",
    "with open('SMAI-Dataset-problem-4.3/colors.pkl', 'rb') as file:\n",
    "    data = pickle.load(file)\n",
    "    \n",
    "print(data.shape)"
   ]
  },
  {
   "cell_type": "code",
   "execution_count": 12,
   "id": "1c4d1db2",
   "metadata": {},
   "outputs": [
    {
     "data": {
      "image/png": "[encoded data removed]",
      "text/plain": [
       "<Figure size 640x480 with 1 Axes>"
      ]
     },
     "metadata": {},
     "output_type": "display_data"
    }
   ],
   "source": [
    "# Function to fit a GMM to the data and visualize the clusters\n",
    "def fit_and_visualize_gmm(data, n_components):\n",
    "    gmm = GaussianMixture(n_components=n_components, random_state=21)\n",
    "    gmm.fit(data)\n",
    "\n",
    "    # Extract parameters\n",
    "    means = gmm.means_\n",
    "    covariances = gmm.covariances_\n",
    "    \n",
    "    # Predict the cluster assignments\n",
    "    labels = gmm.predict(data)\n",
    "\n",
    "    # Plot the data points and cluster centers\n",
    "    plt.scatter(data[:, 0], data[:, 1], c=labels, cmap='viridis', s=50, edgecolors='k', alpha=0.7)\n",
    "    plt.scatter(means[:, 0], means[:, 1], marker='x', s=200, linewidths=3, color='r')\n",
    "    plt.title('GMM Clustering')\n",
    "    plt.show()\n",
    "\n",
    "    return means, covariances\n",
    "\n",
    "# Function to generate a new dataset using GMM parameters\n",
    "def generate_dataset(n, means, covariances):\n",
    "    components = []\n",
    "    for i in range(n):\n",
    "        component = np.random.multivariate_normal(means[i], covariances[i], size=100)\n",
    "        components.append(component)\n",
    "    \n",
    "    return np.vstack(components)\n",
    "\n",
    "n_components = 7 \n",
    "\n",
    "# Fit GMM and visualize clusters\n",
    "means, covariances = fit_and_visualize_gmm(data, n_components)\n",
    "\n",
    "# Generate a new dataset using the identified components\n",
    "new_dataset = generate_dataset(n_components, means, covariances)"
   ]
  },
  {
   "cell_type": "markdown",
   "id": "ea67e32f",
   "metadata": {},
   "source": [
    "**Observations:**\n",
    "The generated sample dataset closely resembles the original dataset in terms of color components, means, and covariances, suggesting that the provided parameters accurately describe the likely components of the dataset."
   ]
  }
 ],
 "metadata": {
  "kernelspec": {
   "display_name": "Python 3 (ipykernel)",
   "language": "python",
   "name": "python3"
  },
  "language_info": {
   "codemirror_mode": {
    "name": "ipython",
    "version": 3
   },
   "file_extension": ".py",
   "mimetype": "text/x-python",
   "name": "python",
   "nbconvert_exporter": "python",
   "pygments_lexer": "ipython3",
   "version": "3.10.12"
  }
 },
 "nbformat": 4,
 "nbformat_minor": 5
}
